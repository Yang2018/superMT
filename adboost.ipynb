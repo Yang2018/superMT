{
 "cells": [
  {
   "cell_type": "code",
   "execution_count": 1,
   "metadata": {
    "ExecuteTime": {
     "end_time": "2021-05-25T08:57:34.033204Z",
     "start_time": "2021-05-25T08:57:34.016248Z"
    }
   },
   "outputs": [],
   "source": [
    "from numpy import *\n",
    "\n",
    "\n",
    "def loadSimpData():\n",
    "    datMat = matrix([[1., 2.1],\n",
    "                     [2., 1.1],\n",
    "                     [1.3, 1.],\n",
    "                     [1., 1.],\n",
    "                     [2., 1.]])\n",
    "    classLabels = [1.0, 1.0, -1.0, -1.0, 1.0]\n",
    "    return datMat, classLabels\n",
    "\n",
    "\n",
    "def stumpClassify(dataMatrix, dimen, threshVal, threshIneq):  # just classify the data\n",
    "    retArray = ones((shape(dataMatrix)[0], 1))\n",
    "    if threshIneq == 'lt':\n",
    "        retArray[dataMatrix[:, dimen] <= threshVal] = -1.0\n",
    "    else:\n",
    "        retArray[dataMatrix[:, dimen] > threshVal] = -1.0\n",
    "    return retArray\n",
    "\n",
    "\n",
    "def buildStump(dataArr, classLabels, D):\n",
    "    dataMatrix = mat(dataArr)\n",
    "    labelMat = mat(classLabels).T\n",
    "    m, n = shape(dataMatrix)\n",
    "    numSteps = 10.0\n",
    "    bestStump = {}\n",
    "    bestClasEst = mat(zeros((m, 1)))\n",
    "    minError = inf  # init error sum, to +infinity\n",
    "    for i in range(n):  # loop over all dimensions\n",
    "        rangeMin = dataMatrix[:, i].min()\n",
    "        rangeMax = dataMatrix[:, i].max()\n",
    "        stepSize = (rangeMax-rangeMin)/numSteps\n",
    "        for j in range(-1, int(numSteps)+1):  # loop over all range in current dimension\n",
    "            for inequal in ['lt', 'gt']:  # go over less than and greater than\n",
    "                threshVal = (rangeMin + float(j) * stepSize)\n",
    "                predictedVals = stumpClassify(\n",
    "                    dataMatrix, i, threshVal, inequal)  # call stump classify wi\n",
    "                errArr = mat(ones((m, 1)))\n",
    "                errArr[predictedVals == labelMat] = 0\n",
    "\n",
    "                weightedError = D.T*errArr  # calc total error multiplied by D\n",
    "                # print \"split: dim %d, thresh %.2f, thresh ineqal: %s, the weighted error is %.3f\" %\n",
    "                if any(weightedError < minError):\n",
    "                    minError = weightedError\n",
    "                    bestClasEst = predictedVals.copy()\n",
    "                    bestStump['dim'] = i\n",
    "                    bestStump['thresh'] = threshVal\n",
    "                    bestStump['ineq'] = inequal\n",
    "    return bestStump, minError, bestClasEst\n",
    "\n",
    "\n",
    "def adaBoostTrainDS(dataArr, classLabels, numIt=40):\n",
    "    weakClassArr = []\n",
    "    m = shape(dataArr)[0]\n",
    "    D = mat(ones((m, 1))/m)  # init D to all equal\n",
    "    aggClassEst = mat(zeros((m, 1)))\n",
    "    for i in range(numIt):\n",
    "        bestStump, error, classEst = buildStump(\n",
    "            dataArr, classLabels, D)  # build Stump\n",
    "        # print \"D:\",D.T\n",
    "        # calc alpha, throw in max(error,eps) to\n",
    "        alpha = float(0.5*log((1.0-error)/max(error, 1e-16)))\n",
    "        bestStump['alpha'] = alpha\n",
    "        weakClassArr.append(bestStump)  # store Stump Params in Array\n",
    "        # print \"classEst: \",classEst.T\n",
    "        # exponent for D calc, getting messy\n",
    "        expon = multiply(-1*alpha*mat(classLabels).T, classEst)\n",
    "        D = multiply(D, exp(expon))  # Calc New D for next iteration\n",
    "        D = D/D.sum()\n",
    "        # calc training error of all classifiers, if this is 0 quit for loop early (use break)\n",
    "        aggClassEst += alpha*classEst\n",
    "        # print \"aggClassEst: \",aggClassEst.T\n",
    "        aggErrors = multiply(sign(aggClassEst) !=\n",
    "                             mat(classLabels).T, ones((m, 1)))\n",
    "        errorRate = aggErrors.sum()/m\n",
    "        print(\"total error: \", errorRate)\n",
    "        if errorRate == 0.0:\n",
    "            break\n",
    "    return weakClassArr, aggClassEst"
   ]
  },
  {
   "cell_type": "code",
   "execution_count": 2,
   "metadata": {
    "ExecuteTime": {
     "end_time": "2021-05-25T08:57:34.877868Z",
     "start_time": "2021-05-25T08:57:34.863624Z"
    }
   },
   "outputs": [],
   "source": [
    "dataMat, classLabels =loadSimpData()"
   ]
  },
  {
   "cell_type": "code",
   "execution_count": 23,
   "metadata": {
    "ExecuteTime": {
     "end_time": "2021-05-25T09:28:14.167492Z",
     "start_time": "2021-05-25T09:28:14.160511Z"
    }
   },
   "outputs": [
    {
     "data": {
      "text/plain": [
       "matrix([[0.2, 0.2],\n",
       "        [0.2, 0.2],\n",
       "        [0.2, 0.2],\n",
       "        [0.2, 0.2],\n",
       "        [0.2, 0.2]])"
      ]
     },
     "execution_count": 23,
     "metadata": {},
     "output_type": "execute_result"
    }
   ],
   "source": [
    "D = mat(ones((5,2))/5)\n",
    "D"
   ]
  },
  {
   "cell_type": "code",
   "execution_count": 24,
   "metadata": {
    "ExecuteTime": {
     "end_time": "2021-05-25T09:28:15.127668Z",
     "start_time": "2021-05-25T09:28:15.105588Z"
    }
   },
   "outputs": [
    {
     "data": {
      "text/plain": [
       "({'dim': 0, 'thresh': 1.3, 'ineq': 'lt'}, matrix([[0.2],\n",
       "         [0.2]]), array([[-1.],\n",
       "        [ 1.],\n",
       "        [-1.],\n",
       "        [-1.],\n",
       "        [ 1.]]))"
      ]
     },
     "execution_count": 24,
     "metadata": {},
     "output_type": "execute_result"
    }
   ],
   "source": [
    "buildStump(dataMat, classLabels, D)"
   ]
  },
  {
   "cell_type": "code",
   "execution_count": 16,
   "metadata": {
    "ExecuteTime": {
     "end_time": "2021-05-25T09:05:54.713054Z",
     "start_time": "2021-05-25T09:05:54.689797Z"
    }
   },
   "outputs": [
    {
     "name": "stdout",
     "output_type": "stream",
     "text": [
      "total error:  0.2\n",
      "total error:  0.2\n",
      "total error:  0.0\n"
     ]
    }
   ],
   "source": [
    "classifierArray, aggClassEst = adaBoostTrainDS(dataMat, classLabels, 9)"
   ]
  },
  {
   "cell_type": "code",
   "execution_count": 20,
   "metadata": {
    "ExecuteTime": {
     "end_time": "2021-05-25T09:15:05.012994Z",
     "start_time": "2021-05-25T09:15:05.004018Z"
    }
   },
   "outputs": [],
   "source": [
    "import matplotlib.pyplot as plt\n",
    "\n",
    "def plotROC(predStrengths, classLabels):\n",
    "    cur = (1.0, 1.0)  # cursor\n",
    "    ySum = 0.0  # variable to calculate AUC\n",
    "    numPosClas = sum(array(classLabels) == 1.0)\n",
    "    yStep = 1/float(numPosClas)\n",
    "    xStep = 1/float(len(classLabels)-numPosClas)\n",
    "    sortedIndicies = predStrengths.argsort()  # get sorted index, it's reverse\n",
    "    fig = plt.figure()\n",
    "    fig.clf()\n",
    "    ax = plt.subplot(111)\n",
    "    # loop through all the values, drawing a line segment at each point\n",
    "    for index in sortedIndicies.tolist()[0]:\n",
    "        if classLabels[index] == 1.0:\n",
    "            delX = 0\n",
    "            delY = yStep\n",
    "        else:\n",
    "            delX = xStep\n",
    "            delY = 0\n",
    "            ySum += cur[1]\n",
    "        # draw line from cur to (cur[0]-delX,cur[1]-delY)\n",
    "        ax.plot([cur[0], cur[0]-delX], [cur[1], cur[1]-delY], c='b')\n",
    "        cur = (cur[0]-delX, cur[1]-delY)\n",
    "    ax.plot([0, 1], [0, 1], 'b--')\n",
    "    plt.xlabel('False positive rate')\n",
    "    plt.ylabel('True positive rate')\n",
    "    plt.title('ROC curve for AdaBoost horse colic detection system')\n",
    "    ax.axis([0, 1, 0, 1])\n",
    "    plt.show()\n",
    "    print(\"the Area Under the Curve is: \", ySum*xStep)"
   ]
  },
  {
   "cell_type": "code",
   "execution_count": 10,
   "metadata": {
    "ExecuteTime": {
     "end_time": "2021-05-25T09:01:34.788934Z",
     "start_time": "2021-05-25T09:01:34.777560Z"
    }
   },
   "outputs": [
    {
     "data": {
      "text/plain": [
       "([{'dim': 0, 'thresh': 1.3, 'ineq': 'lt', 'alpha': 0.6931471805599453},\n",
       "  {'dim': 1, 'thresh': 1.0, 'ineq': 'lt', 'alpha': 0.9729550745276565},\n",
       "  {'dim': 0, 'thresh': 0.9, 'ineq': 'lt', 'alpha': 0.8958797346140273}],\n",
       " matrix([[ 1.17568763],\n",
       "         [ 2.56198199],\n",
       "         [-0.77022252],\n",
       "         [-0.77022252],\n",
       "         [ 0.61607184]]))"
      ]
     },
     "execution_count": 10,
     "metadata": {},
     "output_type": "execute_result"
    }
   ],
   "source": [
    "classifierArray"
   ]
  },
  {
   "cell_type": "code",
   "execution_count": 17,
   "metadata": {
    "ExecuteTime": {
     "end_time": "2021-05-25T09:05:56.293346Z",
     "start_time": "2021-05-25T09:05:56.142616Z"
    }
   },
   "outputs": [
    {
     "data": {
      "image/png": "[encoded data removed]",
      "text/plain": [
       "<Figure size 432x288 with 1 Axes>"
      ]
     },
     "metadata": {
      "needs_background": "light"
     },
     "output_type": "display_data"
    },
    {
     "name": "stdout",
     "output_type": "stream",
     "text": [
      "the Area Under the Curve is:  1.0\n"
     ]
    }
   ],
   "source": [
    "plotROC(aggClassEst.T,classLabels)"
   ]
  },
  {
   "cell_type": "code",
   "execution_count": 18,
   "metadata": {
    "ExecuteTime": {
     "end_time": "2021-05-25T09:07:40.100908Z",
     "start_time": "2021-05-25T09:07:40.095890Z"
    }
   },
   "outputs": [
    {
     "data": {
      "text/plain": [
       "matrix([[ 1.17568763],\n",
       "        [ 2.56198199],\n",
       "        [-0.77022252],\n",
       "        [-0.77022252],\n",
       "        [ 0.61607184]])"
      ]
     },
     "execution_count": 18,
     "metadata": {},
     "output_type": "execute_result"
    }
   ],
   "source": [
    "aggClassEst"
   ]
  },
  {
   "cell_type": "code",
   "execution_count": 19,
   "metadata": {
    "ExecuteTime": {
     "end_time": "2021-05-25T09:07:47.983554Z",
     "start_time": "2021-05-25T09:07:47.967111Z"
    }
   },
   "outputs": [
    {
     "data": {
      "text/plain": [
       "[1.0, 1.0, -1.0, -1.0, 1.0]"
      ]
     },
     "execution_count": 19,
     "metadata": {},
     "output_type": "execute_result"
    }
   ],
   "source": [
    "classLabels"
   ]
  }
 ],
 "metadata": {
  "kernelspec": {
   "display_name": "Python 3",
   "language": "python",
   "name": "python3"
  },
  "language_info": {
   "codemirror_mode": {
    "name": "ipython",
    "version": 3
   },
   "file_extension": ".py",
   "mimetype": "text/x-python",
   "name": "python",
   "nbconvert_exporter": "python",
   "pygments_lexer": "ipython3",
   "version": "3.7.3"
  },
  "toc": {
   "base_numbering": 1,
   "nav_menu": {},
   "number_sections": true,
   "sideBar": true,
   "skip_h1_title": false,
   "title_cell": "Table of Contents",
   "title_sidebar": "Contents",
   "toc_cell": false,
   "toc_position": {},
   "toc_section_display": true,
   "toc_window_display": false
  },
  "varInspector": {
   "cols": {
    "lenName": 16,
    "lenType": 16,
    "lenVar": 40
   },
   "kernels_config": {
    "python": {
     "delete_cmd_postfix": "",
     "delete_cmd_prefix": "del ",
     "library": "var_list.py",
     "varRefreshCmd": "print(var_dic_list())"
    },
    "r": {
     "delete_cmd_postfix": ") ",
     "delete_cmd_prefix": "rm(",
     "library": "var_list.r",
     "varRefreshCmd": "cat(var_dic_list()) "
    }
   },
   "oldHeight": 612.667,
   "position": {
    "height": "40px",
    "left": "763px",
    "right": "20px",
    "top": "68px",
    "width": "625px"
   },
   "types_to_exclude": [
    "module",
    "function",
    "builtin_function_or_method",
    "instance",
    "_Feature"
   ],
   "varInspector_section_display": "none",
   "window_display": true
  }
 },
 "nbformat": 4,
 "nbformat_minor": 2
}
