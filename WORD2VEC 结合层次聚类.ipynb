{
 "cells": [
  {
   "cell_type": "code",
   "execution_count": 1,
   "metadata": {},
   "outputs": [
    {
     "data": {
      "text/plain": [
       "50355"
      ]
     },
     "execution_count": 1,
     "metadata": {},
     "output_type": "execute_result"
    }
   ],
   "source": [
    "data = []\n",
    "with open(r\"D:\\资料\\短文本聚类研究\\backup\\train\\medQA.train.txt\", \"r\",encoding = 'utf-8') as f:\n",
    "    \n",
    "    line = f.readline()\n",
    "    #line.split()\n",
    "    while line: \n",
    "        data.append(line.split()[3])\n",
    "        line = f.readline() \n",
    "data = list(set(data))\n",
    "len(data)"
   ]
  },
  {
   "cell_type": "code",
   "execution_count": 21,
   "metadata": {},
   "outputs": [],
   "source": [
    "import jieba\n",
    "\n",
    "data = []\n",
    "with open(r\"D:\\资料\\短文本聚类研究\\backup\\train\\new 2.txt\", \"r\",encoding = 'utf-8') as f:\n",
    "    \n",
    "    line = f.readline()\n",
    "    #line.split()\n",
    "    while line: \n",
    "        data.append(line.split()[3])\n",
    "        line = f.readline() \n",
    "data = list(set(data))\n",
    "\n",
    "newdata = []\n",
    "\n",
    "for x in data:\n",
    "    newdata.append(jieba.lcut(x))\n",
    "\n",
    "def stopwordslist(filepath):\n",
    "    stopwords = [line.strip() for line in open(filepath, 'r', encoding='utf-8').readlines()]\n",
    "    return stopwords\n",
    "\n",
    "\n",
    "def move_stopwords(sentence_list, stopwords_list):\n",
    "\n",
    "    dd = []\n",
    "    \n",
    "    for word in sentence_list:\n",
    "        out_list = []\n",
    "        for tmp in word:\n",
    "            flag = 0\n",
    "            for _ in num:\n",
    "                if _ in tmp:\n",
    "                    flag = 1\n",
    "                    break\n",
    "            if flag == 1:\n",
    "                continue\n",
    "            if tmp not in stopwords_list:\n",
    "                        out_list.append(tmp)\n",
    "        dd.append(out_list)\n",
    "    return dd\n",
    "\n",
    "stopwords = stopwordslist(r\"D:\\资料\\短文本聚类研究\\backup\\stopwords-master\\stopwords-master\\baidu_stopwords.txt\")\n",
    "num = ['1','2','3','4','5','6','7','8','9','0']\n",
    "tmp = move_stopwords(newdata,stopwords)\n",
    "remove_chars = '[·’!\"\\#$%&\\'()＃！（）*+,-./:;<=>?\\@，：?￥★、…．。＞【】［］《》？“”‘’\\[\\\\]^_`{|}~]+1234567890'\n",
    "\n",
    "tmp = move_stopwords(tmp,remove_chars)\n",
    "\n",
    "findata = tmp"
   ]
  },
  {
   "cell_type": "code",
   "execution_count": 34,
   "metadata": {},
   "outputs": [],
   "source": [
    "import pickle\n",
    "with open(r\"D:\\资料\\短文本聚类研究\\backup\\train\\test.txt\", 'wb') as f:\n",
    "    pickle.dump(findata,f)"
   ]
  },
  {
   "cell_type": "code",
   "execution_count": 120,
   "metadata": {},
   "outputs": [],
   "source": [
    "import pickle\n",
    "with open(r\"D:\\资料\\短文本聚类研究\\backup\\train\\test.txt\", 'rb') as text:\n",
    "    data = pickle.load(text)"
   ]
  },
  {
   "cell_type": "code",
   "execution_count": 121,
   "metadata": {},
   "outputs": [],
   "source": [
    "from gensim.test.utils import common_texts, get_tmpfile\n",
    "from gensim.models import word2vec\n",
    "model = word2vec.Word2Vec(data, size=200, window=5, min_count=3)"
   ]
  },
  {
   "cell_type": "code",
   "execution_count": 122,
   "metadata": {},
   "outputs": [],
   "source": [
    "# 将训练好的模型保存到硬盘，文件名随意\n",
    "model.save(r'D:\\资料\\短文本聚类研究\\backup\\train\\data.w2v.model')"
   ]
  },
  {
   "cell_type": "code",
   "execution_count": 185,
   "metadata": {},
   "outputs": [
    {
     "name": "stdout",
     "output_type": "stream",
     "text": [
      "Wall time: 146 ms\n"
     ]
    }
   ],
   "source": [
    "%%time\n",
    "for x in range(10000):\n",
    "    model.wv.similarity('宝宝', '孩子')"
   ]
  },
  {
   "cell_type": "code",
   "execution_count": 124,
   "metadata": {},
   "outputs": [
    {
     "data": {
      "text/plain": [
       "11723"
      ]
     },
     "execution_count": 124,
     "metadata": {},
     "output_type": "execute_result"
    }
   ],
   "source": [
    "len(model.wv.vocab.keys())"
   ]
  },
  {
   "cell_type": "code",
   "execution_count": 150,
   "metadata": {},
   "outputs": [],
   "source": [
    "for x in data:\n",
    "    for y in x:\n",
    "        if y not in model.wv.vocab.keys():\n",
    "            #print(\"232\")\n",
    "            print(len(data))\n",
    "            x.remove(y)"
   ]
  },
  {
   "cell_type": "code",
   "execution_count": 198,
   "metadata": {},
   "outputs": [
    {
     "data": {
      "text/plain": [
       "[0, 0, 0]"
      ]
     },
     "execution_count": 198,
     "metadata": {},
     "output_type": "execute_result"
    }
   ],
   "source": []
  },
  {
   "cell_type": "code",
   "execution_count": 318,
   "metadata": {},
   "outputs": [
    {
     "name": "stdout",
     "output_type": "stream",
     "text": [
      "Wall time: 12min 1s\n"
     ]
    }
   ],
   "source": [
    "%%time\n",
    "import time\n",
    "alpha = 0.7\n",
    "cnt = 0\n",
    "def sim_jac(model, reference):\n",
    "    jh = set(model) & set(reference)\n",
    "    sameWordNum =  len(jh)\n",
    "        \n",
    "    allWordNum = len(model)+len(reference)-sameWordNum\n",
    "    \n",
    "    si_left= set(model) - (jh)\n",
    "    sj_left= set(reference) - (jh)\n",
    "    #y_tar = [0]*len(sj_left)\n",
    "\n",
    "    S = []\n",
    "    for x in si_left:\n",
    "        for y in sj_left:\n",
    "            sim = mm.wv.similarity(x, y)\n",
    "            S.append([sim,[x,y]])\n",
    "    \n",
    "    num_set = []\n",
    "    S.sort(key=lambda x:x[0],reverse=True)\n",
    "    tmp = []\n",
    "    for x in S:\n",
    "        if x[0] < alpha:\n",
    "            break\n",
    "        if (x[1][0] in tmp) or (x[1][1] in tmp):\n",
    "            continue\n",
    "        tmp.append(x[1][0])\n",
    "        tmp.append(x[1][1])\n",
    "        sameWordNum  = sameWordNum + 1\n",
    "        allWordNum = allWordNum - 1\n",
    "\n",
    "    return sameWordNum/allWordNum\n",
    "\n",
    "    return sameWordNum/allWordNum\n",
    "\n",
    "total = []\n",
    "for x in range(len(data[:500])): \n",
    "    t = []\n",
    "    for y in range(len(data[:500])): \n",
    "        if y <= x:\n",
    "            t.append(0)\n",
    "        else:\n",
    "            jaccard_coefficient = sim_jac(data[x],data[y])\n",
    "            t.append(jaccard_coefficient) \n",
    "    total.append(t)"
   ]
  },
  {
   "cell_type": "code",
   "execution_count": null,
   "metadata": {},
   "outputs": [],
   "source": [
    "%%time\n",
    "import time\n",
    "alpha = 0.6\n",
    "cnt = 0\n",
    "def sim_jac(model, reference):\n",
    "    jh = set(model) & set(reference)\n",
    "    sameWordNum =  len(jh)\n",
    "        \n",
    "    allWordNum = len(model)+len(reference)-sameWordNum\n",
    "    \n",
    "    si_left= set(model) - (jh)\n",
    "    sj_left= list(set(reference) - (jh))\n",
    "    y_tar = [0]*len(sj_left)\n",
    "    S = []\n",
    "    \n",
    "    for x in si_left:\n",
    "        for y in range(len(sj_left)):\n",
    "            if y_tar[y]:\n",
    "                break\n",
    "            if mm.wv.similarity(x, sj_left[y]) > alpha:\n",
    "                y_tar[y] = 1\n",
    "                sameWordNum += 1\n",
    "                allWordNum -= 1\n",
    "                break\n",
    "    \n",
    "#     num_set = []\n",
    "#     S.sort(key=lambda x:x[0],reverse=True)\n",
    "#     tmp = []\n",
    "#     for x in S:\n",
    "#         if x[0] > alpha:\n",
    "#             break\n",
    "#         if (x[1][0] in tmp) or (x[1][1] in tmp):\n",
    "#             continue\n",
    "#         tmp.append(x[1][0])\n",
    "#         tmp.append(x[1][1])\n",
    "#         sameWordNum  = sameWordNum + 1\n",
    "#         allWordNum = allWordNum - 1\n",
    "\n",
    "    return sameWordNum/allWordNum\n",
    "\n",
    "total = []\n",
    "for x in range(len(data[:1000])): \n",
    "    t = []\n",
    "    for y in range(len(data[:1000])): \n",
    "        if y <= x:\n",
    "            t.append(0)\n",
    "        else:\n",
    "            jaccard_coefficient = sim_jac(data[x],data[y])\n",
    "            t.append(jaccard_coefficient) \n",
    "    total.append(t)"
   ]
  },
  {
   "cell_type": "code",
   "execution_count": 299,
   "metadata": {},
   "outputs": [
    {
     "data": {
      "text/plain": [
       "(100, 100)"
      ]
     },
     "execution_count": 299,
     "metadata": {},
     "output_type": "execute_result"
    }
   ],
   "source": [
    "np.array(total).shape"
   ]
  },
  {
   "cell_type": "code",
   "execution_count": 319,
   "metadata": {
    "scrolled": true
   },
   "outputs": [
    {
     "name": "stdout",
     "output_type": "stream",
     "text": [
      "Wall time: 98.3 ms\n"
     ]
    }
   ],
   "source": [
    "%%time\n",
    "import scipy\n",
    "import scipy.cluster.hierarchy as sch\n",
    "from scipy.cluster.vq import vq,kmeans,whiten\n",
    "import numpy as np\n",
    "import matplotlib.pylab as plt\n",
    "\n",
    "\n",
    "#进行层次聚类:\n",
    "N=sch.linkage(np.array(total),method='average') \n",
    "\n"
   ]
  },
  {
   "cell_type": "code",
   "execution_count": 399,
   "metadata": {},
   "outputs": [
    {
     "data": {
      "text/plain": [
       "<Figure size 720x360 with 0 Axes>"
      ]
     },
     "execution_count": 399,
     "metadata": {},
     "output_type": "execute_result"
    },
    {
     "data": {
      "image/png": "[encoded data removed]",
      "text/plain": [
       "<Figure size 432x288 with 1 Axes>"
      ]
     },
     "metadata": {
      "needs_background": "light"
     },
     "output_type": "display_data"
    },
    {
     "data": {
      "text/plain": [
       "<Figure size 720x360 with 0 Axes>"
      ]
     },
     "metadata": {},
     "output_type": "display_data"
    }
   ],
   "source": [
    "\n",
    "P=sch.dendrogram(N)\n",
    "plt.figure(figsize=(10,5))\n",
    "#plt.plot()\n",
    "#plt.savefig('plot_dendrogram.png')\n"
   ]
  },
  {
   "cell_type": "code",
   "execution_count": 397,
   "metadata": {},
   "outputs": [
    {
     "data": {
      "text/plain": [
       "[<matplotlib.lines.Line2D at 0x22f09a17a58>]"
      ]
     },
     "execution_count": 397,
     "metadata": {},
     "output_type": "execute_result"
    },
    {
     "data": {
      "image/png": "[encoded data removed]",
      "text/plain": [
       "<Figure size 432x288 with 1 Axes>"
      ]
     },
     "metadata": {
      "needs_background": "light"
     },
     "output_type": "display_data"
    }
   ],
   "source": [
    "a = []\n",
    "for x in list(np.linspace(1,3.5,50)):\n",
    "    cluster= sch.fcluster(N,x,criterion='distance') \n",
    "    #print(cluster.shape)\n",
    "    a.append(sklearn.metrics.silhouette_score(np.array(total),cluster))\n",
    "plt.plot(list(np.linspace(1,3.5,50)),a)"
   ]
  },
  {
   "cell_type": "code",
   "execution_count": 407,
   "metadata": {},
   "outputs": [
    {
     "name": "stdout",
     "output_type": "stream",
     "text": [
      "38\n"
     ]
    },
    {
     "data": {
      "text/plain": [
       "0.16656614103075945"
      ]
     },
     "execution_count": 407,
     "metadata": {},
     "output_type": "execute_result"
    }
   ],
   "source": [
    "cluster= sch.fcluster(N,2,criterion='distance') \n",
    "print(max(cluster))\n",
    "sklearn.metrics.silhouette_score(np.array(total),cluster)"
   ]
  },
  {
   "cell_type": "code",
   "execution_count": 406,
   "metadata": {},
   "outputs": [
    {
     "data": {
      "text/plain": [
       "[<matplotlib.lines.Line2D at 0x22f09b06eb8>]"
      ]
     },
     "execution_count": 406,
     "metadata": {},
     "output_type": "execute_result"
    },
    {
     "data": {
      "image/png": "[encoded data removed]",
      "text/plain": [
       "<Figure size 720x432 with 1 Axes>"
      ]
     },
     "metadata": {
      "needs_background": "light"
     },
     "output_type": "display_data"
    }
   ],
   "source": [
    "dict = {}\n",
    "for key in list(cluster):\n",
    "    dict[key] = dict.get(key, 0) + 1\n",
    "#print(dict)\n",
    "vv = []\n",
    "for key,value in dict.items():\n",
    "    vv.append(value)\n",
    "vv.sort()\n",
    "plt.figure(figsize=(10,6))\n",
    "plt.plot(vv)"
   ]
  },
  {
   "cell_type": "code",
   "execution_count": 321,
   "metadata": {},
   "outputs": [
    {
     "data": {
      "text/plain": [
       "[<matplotlib.lines.Line2D at 0x22f6fdc42b0>]"
      ]
     },
     "execution_count": 321,
     "metadata": {},
     "output_type": "execute_result"
    },
    {
     "data": {
      "image/png": "[encoded data removed]",
      "text/plain": [
       "<Figure size 432x288 with 1 Axes>"
      ]
     },
     "metadata": {
      "needs_background": "light"
     },
     "output_type": "display_data"
    }
   ],
   "source": [
    "plt.plot( list(np.linspace(0,1.1,50)),a)"
   ]
  },
  {
   "cell_type": "code",
   "execution_count": 408,
   "metadata": {
    "scrolled": false
   },
   "outputs": [
    {
     "name": "stdout",
     "output_type": "stream",
     "text": [
      "['我手', '损伤', '闹', '无意间', '手', '当初', '骨折', '一块', '撞', '石', '上', '手', '震', '缓', '半天', '很痛', '一会', '凉水', '好些', '稍微', '碰', '撞击', '地方', '骨折', '块', '很痛', '使劲', '碰', '感觉', '酸痛', '手', '还', '活动', '疼', '还', '说', '感觉', '软组织', '伤到', '骨头', '伤到']\n",
      "['血栓', '闭塞性', '脉管炎', '危害', '老公', '今年冬天', '特别', '怕冷', '特别', '几天', '冷空气', '脚', '刺痛感', '晚上', '睡觉', '好', '几次', '都', '痛醒', '去', '看', '医生', '才', '血栓', '闭塞性', '脉管炎', '都', '吃', '中药', '调理', '真', '担心', '冬天', '都', '会', '样子', '希望', '血栓', '闭塞性', '脉管炎', '危害']\n",
      "['新生儿', '鼻塞', '治疗', '我家', '宝宝', '出生', '没多久', '不', '小心', '感冒', '医院', '治疗', '感冒', '好', '流鼻涕', '晚上', '睡觉', '还', '伴有', '鼻塞', '两个', '鼻子', '都', '不', '通气', '都', '哭闹', '不肯', '人', '抱', '才', '肯', '睡', '床上', '没多久', '哭', '看着', '难受', '难受']\n",
      "['晚上', '睡觉', '失眠', '老公', '段时间', '工作', '压力', '大', '每次', '下班', '回家', '都', '特别', '累', '晚上', '还', '睡不着', '觉', '有时候', '好不容易', '睡着', '还', '一会', '惊醒', '晚上', '睡不着', '都', '特别', '难受', '去', '医院', '检查', '毛病', '都', '吃', '调节', '神经', '药', '效果']\n",
      "['浅表', '萎缩性', '胃炎', '伴', '糜烂', '年', '查出', '这病', '平时', '胃疼', '总', '不', '舒服', '感觉', '吃饭', '特别', '少', '吃', '多一点', '不', '往下走', '一点', '硬', '胃', '疼', '更', '厉害', '一点', '第一', '医院', '看']\n",
      "['下', '腹痛', '原因', '几天', '感到', '下腹部', '胀痛', '感觉', '便秘', '想', '大便', '每次', '却', '拉', '不', '还', '放屁', '终于', '排', '大便', '但量', '很少', '拉完', '后', '下腹部', '痛', '吃', '保济丸', '没什么']\n",
      "['岁', '男', '无', '病史', '身体健康', '岁', '男', '无', '病史', '身体健康', '昨晚', '点多', '走', '米', '休息', '小时', '后', '期间', '喝', '啤酒', '起身', '行走', '膝关节', '弯曲', '感觉', '双腿', '无力', '行走', '时', '膝关节', '少许', '弯曲', '摔倒', '站', '站立', '今早', '点', '起床', '后', '大腿', '正面', '酸痛', '仍', '行走', '只', '腿', '直']\n",
      "['男', '岁', '胆囊', '切除', '手术', '后', '胸部', '根治', '后', '慢慢', '发现', '胸部', '气胀', '现象', '犯病', '中', '不知', '一股', '气', '座', '下', '后', '双腿', '上身', '成', '股气', '右边', '第一', '二', '根肋骨', '后', '发痛', '发胀', '马上', '上身', '分钟', '听到', '感觉', '咯', '咯', '后', '股气', '不痛', '不胀', '恢复正常', '持续', '年', '发病', '春', '秋', '占', '冬季', '好', '一点']\n",
      "['拉屎', '会', '出血', '怎么回事', '现象', '腹痛', '拉屎', '会', '出血', '怎么回事', '现象', '腹痛', '拉出', '血', '红色', '便', '血', '分开', '拉出', '症状', '前', '吃', '辣', '冷', '还', '做', '剧烈运动', '额', '刚', '肚子', '咕噜', '肚子', '不怎么', '痛']\n"
     ]
    }
   ],
   "source": [
    "tmp = []\n",
    "for i, x in enumerate(list(cluster)):\n",
    "    if x == 5:\n",
    "        tmp.append(data[i])\n",
    "        print(data[i])"
   ]
  }
 ],
 "metadata": {
  "kernelspec": {
   "display_name": "Python 3",
   "language": "python",
   "name": "python3"
  },
  "language_info": {
   "codemirror_mode": {
    "name": "ipython",
    "version": 3
   },
   "file_extension": ".py",
   "mimetype": "text/x-python",
   "name": "python",
   "nbconvert_exporter": "python",
   "pygments_lexer": "ipython3",
   "version": "3.7.3"
  }
 },
 "nbformat": 4,
 "nbformat_minor": 2
}
