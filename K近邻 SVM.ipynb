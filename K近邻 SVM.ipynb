{
 "cells": [
  {
   "cell_type": "code",
   "execution_count": 37,
   "metadata": {
    "ExecuteTime": {
     "end_time": "2021-05-24T16:19:25.044308Z",
     "start_time": "2021-05-24T16:19:25.021312Z"
    }
   },
   "outputs": [],
   "source": [
    "import numpy as np\n",
    "\n",
    "# KNN分类算法函数定义\n",
    "def kNNClassify(newInput, dataSet, labels, k):\n",
    "    numSamples = dataSet.shape[0]   # shape[0]表示行数\n",
    "    diff = np.tile(newInput, (numSamples, 1)) - dataSet  # 按元素求差值\n",
    "    squaredDiff = diff ** 2  # 将差值平方\n",
    "    squaredDist = np.sum(squaredDiff, axis = 1)   # 按行累加\n",
    "    distance = squaredDist ** 0.5  # 将差值平方和求开方，即得距离\n",
    "\n",
    "    sortedDistIndices = np.argsort(distance)\n",
    "    classCount = {} # define a dictionary (can be append element)\n",
    "    \n",
    "    vote = []\n",
    "    for i in range(k):\n",
    "        vote.append(labels[sortedDistIndices[i]])\n",
    "    \n",
    "    vlabel1, vlabel2 = np.unique(vote,return_counts=True)\n",
    "    return vlabel1[np.argmax(vlabel2)]\n"
   ]
  },
  {
   "cell_type": "code",
   "execution_count": 2,
   "metadata": {
    "ExecuteTime": {
     "end_time": "2021-05-25T08:33:03.527561Z",
     "start_time": "2021-05-25T08:33:03.392642Z"
    }
   },
   "outputs": [],
   "source": [
    "from sklearn import datasets"
   ]
  },
  {
   "cell_type": "code",
   "execution_count": 3,
   "metadata": {
    "ExecuteTime": {
     "end_time": "2021-05-25T08:33:04.135775Z",
     "start_time": "2021-05-25T08:33:04.102161Z"
    }
   },
   "outputs": [],
   "source": [
    "from sklearn.model_selection import train_test_split\n",
    "iris = datasets.load_iris()\n",
    "X_train, X_test, y_train, y_test = \\\n",
    "    train_test_split(iris.data, iris.target, test_size = 0.2, random_state=0)"
   ]
  },
  {
   "cell_type": "code",
   "execution_count": 47,
   "metadata": {
    "ExecuteTime": {
     "end_time": "2021-05-24T16:23:06.639000Z",
     "start_time": "2021-05-24T16:23:06.613135Z"
    },
    "scrolled": true
   },
   "outputs": [
    {
     "data": {
      "text/plain": [
       "[2,\n",
       " 1,\n",
       " 0,\n",
       " 2,\n",
       " 0,\n",
       " 2,\n",
       " 0,\n",
       " 1,\n",
       " 1,\n",
       " 1,\n",
       " 2,\n",
       " 1,\n",
       " 1,\n",
       " 1,\n",
       " 2,\n",
       " 0,\n",
       " 1,\n",
       " 1,\n",
       " 0,\n",
       " 0,\n",
       " 2,\n",
       " 1,\n",
       " 0,\n",
       " 0,\n",
       " 2,\n",
       " 0,\n",
       " 0,\n",
       " 1,\n",
       " 1,\n",
       " 0]"
      ]
     },
     "execution_count": 47,
     "metadata": {},
     "output_type": "execute_result"
    }
   ],
   "source": [
    "y_pre = []\n",
    "for sample in X_test:\n",
    "    y_pre.append(kNNClassify(sample, X_train, y_train, 5))\n",
    "y_pre"
   ]
  },
  {
   "cell_type": "code",
   "execution_count": 5,
   "metadata": {
    "ExecuteTime": {
     "end_time": "2021-05-25T08:39:56.031563Z",
     "start_time": "2021-05-25T08:39:56.026602Z"
    }
   },
   "outputs": [],
   "source": [
    "from sklearn.metrics import confusion_matrix\n",
    "from sklearn.metrics import recall_score\n",
    "from sklearn.metrics import f1_score\n",
    "from sklearn.metrics import precision_score"
   ]
  },
  {
   "cell_type": "code",
   "execution_count": 9,
   "metadata": {
    "ExecuteTime": {
     "end_time": "2021-05-25T08:40:48.846538Z",
     "start_time": "2021-05-25T08:40:48.040119Z"
    }
   },
   "outputs": [
    {
     "name": "stdout",
     "output_type": "stream",
     "text": [
      "SVC:\n",
      "GridSearchCV(cv=10, error_score=nan,\n",
      "             estimator=SVC(C=1.0, break_ties=False, cache_size=200,\n",
      "                           class_weight=None, coef0=0.0,\n",
      "                           decision_function_shape='ovo', degree=3,\n",
      "                           gamma='scale', kernel='rbf', max_iter=-1,\n",
      "                           probability=False, random_state=1, shrinking=True,\n",
      "                           tol=0.001, verbose=False),\n",
      "             iid='deprecated', n_jobs=None,\n",
      "             param_grid=[{'C': [0.01, 0.1, 1, 10.0, 100.0],\n",
      "                          'kernel': ['linear']},\n",
      "                         {'C': [0.01, 0.1, 1, 10.0, 100.0],\n",
      "                          'gamma': [0.01, 0.1, 1, 10.0, 100.0],\n",
      "                          'kernel': ['rbf']},\n",
      "                         {'C': [0.01, 0.1, 1, 10.0, 100.0],\n",
      "                          'gamma': [0.01, 0.1, 1, 10.0, 100.0],\n",
      "                          'kernel': ['sigmoid']}],\n",
      "             pre_dispatch='2*n_jobs', refit=True, return_train_score=False,\n",
      "             scoring=None, verbose=0)\n",
      "0.9583333333333333\n",
      "{'C': 0.1, 'kernel': 'linear'}\n",
      "[[11  0  0]\n",
      " [ 0 13  0]\n",
      " [ 0  0  6]]\n",
      "1.0\n"
     ]
    }
   ],
   "source": [
    "from sklearn.metrics import f1_score\n",
    "from sklearn.svm import SVC\n",
    "from sklearn.model_selection import GridSearchCV\n",
    "    \n",
    "print(\"SVC:\")\n",
    "param_range = [0.01, 0.1, 1, 10.0, 100.0]\n",
    "param_grid = [{'C': param_range, 'kernel': ['linear']},\n",
    "              {'C': param_range, 'kernel': ['rbf'], 'gamma': param_range},\n",
    "              {'C': param_range, 'kernel': ['sigmoid'], 'gamma': param_range}]\n",
    "gs = GridSearchCV(estimator=SVC(decision_function_shape='ovo', random_state=1),\n",
    "                  param_grid=param_grid,\n",
    "                  #scoring='f1',\n",
    "                  \n",
    "                  cv=10)\n",
    "gs = gs.fit(X_train, y_train)\n",
    "print(gs)\n",
    "print(gs.best_score_)\n",
    "print(gs.best_params_)\n",
    "y_pre = gs.best_estimator_.predict(X_test)\n",
    "print(confusion_matrix(y_test, y_pre))\n",
    "print(f1_score(y_test, y_pre,average='macro'))\n"
   ]
  }
 ],
 "metadata": {
  "kernelspec": {
   "display_name": "Python 3",
   "language": "python",
   "name": "python3"
  },
  "language_info": {
   "codemirror_mode": {
    "name": "ipython",
    "version": 3
   },
   "file_extension": ".py",
   "mimetype": "text/x-python",
   "name": "python",
   "nbconvert_exporter": "python",
   "pygments_lexer": "ipython3",
   "version": "3.7.3"
  },
  "toc": {
   "base_numbering": 1,
   "nav_menu": {},
   "number_sections": true,
   "sideBar": true,
   "skip_h1_title": false,
   "title_cell": "Table of Contents",
   "title_sidebar": "Contents",
   "toc_cell": false,
   "toc_position": {},
   "toc_section_display": true,
   "toc_window_display": false
  },
  "varInspector": {
   "cols": {
    "lenName": 16,
    "lenType": 16,
    "lenVar": 40
   },
   "kernels_config": {
    "python": {
     "delete_cmd_postfix": "",
     "delete_cmd_prefix": "del ",
     "library": "var_list.py",
     "varRefreshCmd": "print(var_dic_list())"
    },
    "r": {
     "delete_cmd_postfix": ") ",
     "delete_cmd_prefix": "rm(",
     "library": "var_list.r",
     "varRefreshCmd": "cat(var_dic_list()) "
    }
   },
   "types_to_exclude": [
    "module",
    "function",
    "builtin_function_or_method",
    "instance",
    "_Feature"
   ],
   "window_display": false
  }
 },
 "nbformat": 4,
 "nbformat_minor": 2
}
