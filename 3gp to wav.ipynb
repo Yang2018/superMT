{
 "cells": [
  {
   "cell_type": "code",
   "execution_count": 10,
   "metadata": {},
   "outputs": [
    {
     "name": "stdout",
     "output_type": "stream",
     "text": [
      "ffmpeg -i C:\\Users\\Yang\\Desktop\\12.5\\testnullM_1607521725\\test20M1.3gp -acodec pcm_s16le -ac 1 -ar 16000 C:\\Users\\Yang\\Desktop\\12.5\\testnullM_1607521725\\test20M1.wav\n",
      "ffmpeg -i C:\\Users\\Yang\\Desktop\\12.5\\testnullM_1607521725\\test20M10.3gp -acodec pcm_s16le -ac 1 -ar 16000 C:\\Users\\Yang\\Desktop\\12.5\\testnullM_1607521725\\test20M10.wav\n",
      "ffmpeg -i C:\\Users\\Yang\\Desktop\\12.5\\testnullM_1607521725\\test20M2.3gp -acodec pcm_s16le -ac 1 -ar 16000 C:\\Users\\Yang\\Desktop\\12.5\\testnullM_1607521725\\test20M2.wav\n",
      "ffmpeg -i C:\\Users\\Yang\\Desktop\\12.5\\testnullM_1607521725\\test20M3.3gp -acodec pcm_s16le -ac 1 -ar 16000 C:\\Users\\Yang\\Desktop\\12.5\\testnullM_1607521725\\test20M3.wav\n",
      "ffmpeg -i C:\\Users\\Yang\\Desktop\\12.5\\testnullM_1607521725\\test20M4.3gp -acodec pcm_s16le -ac 1 -ar 16000 C:\\Users\\Yang\\Desktop\\12.5\\testnullM_1607521725\\test20M4.wav\n",
      "ffmpeg -i C:\\Users\\Yang\\Desktop\\12.5\\testnullM_1607521725\\test20M5.3gp -acodec pcm_s16le -ac 1 -ar 16000 C:\\Users\\Yang\\Desktop\\12.5\\testnullM_1607521725\\test20M5.wav\n",
      "ffmpeg -i C:\\Users\\Yang\\Desktop\\12.5\\testnullM_1607521725\\test20M6.3gp -acodec pcm_s16le -ac 1 -ar 16000 C:\\Users\\Yang\\Desktop\\12.5\\testnullM_1607521725\\test20M6.wav\n",
      "ffmpeg -i C:\\Users\\Yang\\Desktop\\12.5\\testnullM_1607521725\\test20M7.3gp -acodec pcm_s16le -ac 1 -ar 16000 C:\\Users\\Yang\\Desktop\\12.5\\testnullM_1607521725\\test20M7.wav\n",
      "ffmpeg -i C:\\Users\\Yang\\Desktop\\12.5\\testnullM_1607521725\\test20M8.3gp -acodec pcm_s16le -ac 1 -ar 16000 C:\\Users\\Yang\\Desktop\\12.5\\testnullM_1607521725\\test20M8.wav\n",
      "ffmpeg -i C:\\Users\\Yang\\Desktop\\12.5\\testnullM_1607521725\\test20M9.3gp -acodec pcm_s16le -ac 1 -ar 16000 C:\\Users\\Yang\\Desktop\\12.5\\testnullM_1607521725\\test20M9.wav\n"
     ]
    }
   ],
   "source": [
    "import joblib\n",
    "from sklearn import preprocessing\n",
    "import pandas as pd\n",
    "import os\n",
    "from aip import AipNlp\n",
    "\n",
    "audio_path = r'C:\\Users\\Yang\\Desktop\\12.5\\testnullM_1607521725'\n",
    "output_path = audio_path+ '\\csvs'\n",
    "txt_path = audio_path+'\\\\text'\n",
    "\n",
    "x = audio_path.split('\\\\')[-1]\n",
    "\n",
    "for root, dirs, files in os.walk(audio_path):\n",
    "        for _ in files:\n",
    "            if _.endswith('.3gp'):\n",
    "                this_path_input = os.path.join(audio_path, _)\n",
    "                this_path_output = os.path.join(audio_path, _[:-4] + '.wav')\n",
    "                cmd = \"ffmpeg -i \"+this_path_input+\" -acodec pcm_s16le -ac 1 -ar 16000 \"+this_path_output\n",
    "                print(cmd)\n",
    "                os.system(cmd)\n"
   ]
  },
  {
   "cell_type": "code",
   "execution_count": 12,
   "metadata": {},
   "outputs": [
    {
     "name": "stdout",
     "output_type": "stream",
     "text": [
      "['test0M_1607365274', 'testnullM_1607168196.zip', 'testnullM_1607169915.zip', 'testnullM_1607170766.zip', 'testnullM_1607172004.zip']\n",
      "C:\\Users\\Yang\\Desktop\\12.5\\111\\test0M_1607365274\n",
      "test0M1.aac\n",
      "test0M10.aac\n",
      "test0M2.aac\n",
      "test0M3.aac\n",
      "test0M4.aac\n",
      "test0M5.aac\n",
      "test0M6.aac\n",
      "test0M7.aac\n",
      "test0M8.aac\n",
      "test0M9.aac\n",
      "C:\\Users\\Yang\\Desktop\\12.5\\111\\testnullM_1607168196.zip\n",
      "C:\\Users\\Yang\\Desktop\\12.5\\111\\testnullM_1607169915.zip\n",
      "C:\\Users\\Yang\\Desktop\\12.5\\111\\testnullM_1607170766.zip\n",
      "C:\\Users\\Yang\\Desktop\\12.5\\111\\testnullM_1607172004.zip\n"
     ]
    }
   ],
   "source": [
    "import joblib\n",
    "from sklearn import preprocessing\n",
    "import pandas as pd\n",
    "import os\n",
    "from aip import AipNlp\n",
    "\n",
    "\n",
    "audio_path = r'C:\\Users\\Yang\\Desktop\\12.5\\111'\n",
    "#output_path = r'C:\\Users\\Yang\\Desktop\\data\\新建文件夹\\tmp'\n",
    "ll = os.listdir(audio_path)\n",
    "print(ll)\n",
    "for x in ll:\n",
    "    pp = os.path.join(audio_path, x)\n",
    "    print(pp)\n",
    "    for root, dirs, files in os.walk(pp):\n",
    "        for _ in files:\n",
    "            print(_)\n",
    "            if _.endswith('.aac'):\n",
    "                this_path_input = os.path.join(pp, _)\n",
    "                this_path_output = os.path.join(pp, _[:-4] + '.wav')\n",
    "                cmd = \"ffmpeg -i \"+this_path_input+\" -acodec pcm_s16le -ac 1 -ar 16000 \"+this_path_output\n",
    "                os.system(cmd)\n"
   ]
  },
  {
   "cell_type": "code",
   "execution_count": 23,
   "metadata": {},
   "outputs": [
    {
     "ename": "TypeError",
     "evalue": "unsupported operand type(s) for *: 'dict' and 'int'",
     "output_type": "error",
     "traceback": [
      "\u001b[1;31m---------------------------------------------------------------------------\u001b[0m",
      "\u001b[1;31mTypeError\u001b[0m                                 Traceback (most recent call last)",
      "\u001b[1;32m<ipython-input-23-e0dc3df96cb3>\u001b[0m in \u001b[0;36m<module>\u001b[1;34m\u001b[0m\n\u001b[1;32m----> 1\u001b[1;33m \u001b[0ma\u001b[0m \u001b[1;33m=\u001b[0m \u001b[1;33m[\u001b[0m\u001b[1;33m{\u001b[0m\u001b[1;33m}\u001b[0m\u001b[1;33m*\u001b[0m\u001b[1;36m9\u001b[0m\u001b[1;33m]\u001b[0m\u001b[1;33m\u001b[0m\u001b[1;33m\u001b[0m\u001b[0m\n\u001b[0m",
      "\u001b[1;31mTypeError\u001b[0m: unsupported operand type(s) for *: 'dict' and 'int'"
     ]
    }
   ],
   "source": [
    "a = [{}*9]"
   ]
  },
  {
   "cell_type": "code",
   "execution_count": 32,
   "metadata": {},
   "outputs": [
    {
     "data": {
      "text/plain": [
       "'M61606702462'"
      ]
     },
     "execution_count": 32,
     "metadata": {},
     "output_type": "execute_result"
    }
   ],
   "source": [
    "txt_file = 'test10M61606702462.txt'\n",
    "txt_file[:-4][6:]"
   ]
  }
 ],
 "metadata": {
  "kernelspec": {
   "display_name": "Python 3",
   "language": "python",
   "name": "python3"
  },
  "language_info": {
   "codemirror_mode": {
    "name": "ipython",
    "version": 3
   },
   "file_extension": ".py",
   "mimetype": "text/x-python",
   "name": "python",
   "nbconvert_exporter": "python",
   "pygments_lexer": "ipython3",
   "version": "3.7.3"
  }
 },
 "nbformat": 4,
 "nbformat_minor": 2
}
